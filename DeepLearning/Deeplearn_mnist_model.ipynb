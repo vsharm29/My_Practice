{
  "nbformat": 4,
  "nbformat_minor": 0,
  "metadata": {
    "colab": {
      "name": "deeplearn_mnist_model.ipynb",
      "version": "0.3.2",
      "provenance": []
    },
    "kernelspec": {
      "name": "python3",
      "display_name": "Python 3"
    }
  },
  "cells": [
    {
      "metadata": {
        "id": "_v2CJjohHOHW",
        "colab_type": "code",
        "colab": {
          "base_uri": "https://localhost:8080/",
          "height": 36
        },
        "outputId": "baeefcc3-75e8-4e9f-a5e4-919037ab2e25"
      },
      "cell_type": "code",
      "source": [
        "import tensorflow as tf\n",
        "print(tf.__version__)"
      ],
      "execution_count": 61,
      "outputs": [
        {
          "output_type": "stream",
          "text": [
            "1.13.1\n"
          ],
          "name": "stdout"
        }
      ]
    },
    {
      "metadata": {
        "id": "dqZ6EtqQ-bha",
        "colab_type": "code",
        "colab": {}
      },
      "cell_type": "code",
      "source": [
        "class myCallback(tf.keras.callbacks.Callback):\n",
        "  def on_epoch_end(self, epoch, logs={}):\n",
        "    if(logs.get('acc')>0.89):\n",
        "      print(\"\\nReached 89% accuracy so cancelling training!\")\n",
        "      self.model.stop_training = True"
      ],
      "execution_count": 0,
      "outputs": []
    },
    {
      "metadata": {
        "id": "pGyKiQDX-BjM",
        "colab_type": "code",
        "colab": {}
      },
      "cell_type": "code",
      "source": [
        "mnist= tf.keras.datasets.fashion_mnist"
      ],
      "execution_count": 0,
      "outputs": []
    },
    {
      "metadata": {
        "id": "1FE5PrL6-WTf",
        "colab_type": "code",
        "colab": {}
      },
      "cell_type": "code",
      "source": [
        "(training_images, training_labels), (test_images, test_labels)= mnist.load_data()"
      ],
      "execution_count": 0,
      "outputs": []
    },
    {
      "metadata": {
        "id": "tK-GK8LG-r_Z",
        "colab_type": "code",
        "colab": {}
      },
      "cell_type": "code",
      "source": [
        "#import matplotlib.pyplot as plt\n",
        "#plt.imshow(training_images[0])\n",
        "#print(training_labels[0])\n",
        "#print(training_images[0])"
      ],
      "execution_count": 0,
      "outputs": []
    },
    {
      "metadata": {
        "id": "ptx3kMdvbYN0",
        "colab_type": "code",
        "colab": {}
      },
      "cell_type": "code",
      "source": [
        "training_images = training_images/255.0\n",
        "test_images= test_images/255.0"
      ],
      "execution_count": 0,
      "outputs": []
    },
    {
      "metadata": {
        "id": "B3pSEbuW-t6U",
        "colab_type": "code",
        "colab": {}
      },
      "cell_type": "code",
      "source": [
        "callbacks = myCallback()"
      ],
      "execution_count": 0,
      "outputs": []
    },
    {
      "metadata": {
        "id": "BWtY2u6pejha",
        "colab_type": "code",
        "colab": {}
      },
      "cell_type": "code",
      "source": [
        "model= tf.keras.models.Sequential([tf.keras.layers.Flatten(), \n",
        "                                   tf.keras.layers.Dense(128, activation= tf.nn.relu),\n",
        "                                  tf.keras.layers.Dense(10,activation=tf.nn.softmax)])"
      ],
      "execution_count": 0,
      "outputs": []
    },
    {
      "metadata": {
        "id": "sNZ2dz3e-2bx",
        "colab_type": "code",
        "colab": {}
      },
      "cell_type": "code",
      "source": [
        "model.compile(optimizer='adam',\n",
        "              loss='sparse_categorical_crossentropy',\n",
        "              metrics=['accuracy'])\n"
      ],
      "execution_count": 0,
      "outputs": []
    },
    {
      "metadata": {
        "id": "aIA7mrQI-5n3",
        "colab_type": "code",
        "colab": {
          "base_uri": "https://localhost:8080/",
          "height": 400
        },
        "outputId": "3db122b3-7ae6-4d9c-85a2-fa2890e2d192"
      },
      "cell_type": "code",
      "source": [
        "model.fit(training_images, training_labels, epochs=10, callbacks=[callbacks])"
      ],
      "execution_count": 74,
      "outputs": [
        {
          "output_type": "stream",
          "text": [
            "Epoch 1/10\n",
            "60000/60000 [==============================] - 9s 147us/sample - loss: 0.3141 - acc: 0.8839\n",
            "Epoch 2/10\n",
            "60000/60000 [==============================] - 8s 127us/sample - loss: 0.2967 - acc: 0.8900\n",
            "Epoch 3/10\n",
            "60000/60000 [==============================] - 7s 122us/sample - loss: 0.2820 - acc: 0.8964\n",
            "Epoch 4/10\n",
            "60000/60000 [==============================] - 8s 126us/sample - loss: 0.2683 - acc: 0.8986\n",
            "Epoch 5/10\n",
            "60000/60000 [==============================] - 7s 123us/sample - loss: 0.2587 - acc: 0.9045\n",
            "Epoch 6/10\n",
            "60000/60000 [==============================] - 7s 124us/sample - loss: 0.2493 - acc: 0.9066\n",
            "Epoch 7/10\n",
            "60000/60000 [==============================] - 8s 127us/sample - loss: 0.2405 - acc: 0.9104\n",
            "Epoch 8/10\n",
            "60000/60000 [==============================] - 8s 127us/sample - loss: 0.2333 - acc: 0.9125\n",
            "Epoch 9/10\n",
            "60000/60000 [==============================] - 8s 125us/sample - loss: 0.2258 - acc: 0.9142\n",
            "Epoch 10/10\n",
            "60000/60000 [==============================] - 8s 129us/sample - loss: 0.2188 - acc: 0.9178\n"
          ],
          "name": "stdout"
        },
        {
          "output_type": "execute_result",
          "data": {
            "text/plain": [
              "<tensorflow.python.keras.callbacks.History at 0x7f7ef380c278>"
            ]
          },
          "metadata": {
            "tags": []
          },
          "execution_count": 74
        }
      ]
    },
    {
      "metadata": {
        "id": "lpbFTYZpBggy",
        "colab_type": "code",
        "colab": {
          "base_uri": "https://localhost:8080/",
          "height": 54
        },
        "outputId": "df5905c1-6617-4c6c-b34a-4fa4129279a9"
      },
      "cell_type": "code",
      "source": [
        "model.evaluate(test_images, test_labels)"
      ],
      "execution_count": 78,
      "outputs": [
        {
          "output_type": "stream",
          "text": [
            "10000/10000 [==============================] - 0s 45us/sample - loss: 0.3448 - acc: 0.8815\n"
          ],
          "name": "stdout"
        },
        {
          "output_type": "execute_result",
          "data": {
            "text/plain": [
              "[0.344768140655756, 0.8815]"
            ]
          },
          "metadata": {
            "tags": []
          },
          "execution_count": 78
        }
      ]
    },
    {
      "metadata": {
        "id": "AiCuSBlBB8T1",
        "colab_type": "code",
        "colab": {}
      },
      "cell_type": "code",
      "source": [
        ""
      ],
      "execution_count": 0,
      "outputs": []
    }
  ]
}
