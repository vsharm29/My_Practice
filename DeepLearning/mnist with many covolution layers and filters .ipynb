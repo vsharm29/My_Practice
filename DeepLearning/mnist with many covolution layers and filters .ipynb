{
  "nbformat": 4,
  "nbformat_minor": 0,
  "metadata": {
    "colab": {
      "name": "Welcome To Colaboratory",
      "version": "0.3.2",
      "provenance": [],
      "collapsed_sections": []
    },
    "kernelspec": {
      "display_name": "Python 3",
      "name": "python3"
    }
  },
  "cells": [
    {
      "cell_type": "markdown",
      "metadata": {
        "id": "Yt72Yg2TvOgG",
        "colab_type": "text"
      },
      "source": [
        "<h2>Original script with 64 filters</h2>"
      ]
    },
    {
      "cell_type": "code",
      "metadata": {
        "id": "l2qfzKPyXxKl",
        "colab_type": "code",
        "colab": {
          "base_uri": "https://localhost:8080/",
          "height": 843
        },
        "outputId": "7aab4324-1355-4c05-be07-c76d527cbbde"
      },
      "source": [
        "import tensorflow as tf\n",
        "print(tf.__version__)\n",
        "mnist = tf.keras.datasets.fashion_mnist\n",
        "(training_images,training_labels), (test_images, test_labels)=mnist.load_data()\n",
        "training_images=training_images.reshape(60000,28,28,1)\n",
        "training_images=training_images/255.0\n",
        "test_images= test_images.reshape(10000,28,28,1)\n",
        "test_images=test_images/255.0\n",
        "model=tf.keras.models.Sequential([\n",
        "    tf.keras.layers.Conv2D(64,(3,3),activation='relu', input_shape=(28,28,1)),\n",
        "    tf.keras.layers.MaxPooling2D(2,2),\n",
        "    tf.keras.layers.Conv2D(64,(3,3),activation='relu'),\n",
        "    tf.keras.layers.MaxPooling2D(2,2),\n",
        "    tf.keras.layers.Flatten(),\n",
        "    tf.keras.layers.Dense(128, activation='relu'),\n",
        "    tf.keras.layers.Dense(10, activation='softmax')\n",
        "])\n",
        "\n",
        "model.compile(optimizer='adam', loss='sparse_categorical_crossentropy', metrics=['accuracy'])             \n",
        "model.summary()\n",
        "model.fit(training_images, training_labels, epochs=5)\n",
        "test_loss, test_acc =model.evaluate(test_images,test_labels)\n",
        "print(test_acc)"
      ],
      "execution_count": 1,
      "outputs": [
        {
          "output_type": "stream",
          "text": [
            "1.13.1\n",
            "Downloading data from https://storage.googleapis.com/tensorflow/tf-keras-datasets/train-labels-idx1-ubyte.gz\n",
            "32768/29515 [=================================] - 0s 0us/step\n",
            "Downloading data from https://storage.googleapis.com/tensorflow/tf-keras-datasets/train-images-idx3-ubyte.gz\n",
            "26427392/26421880 [==============================] - 0s 0us/step\n",
            "Downloading data from https://storage.googleapis.com/tensorflow/tf-keras-datasets/t10k-labels-idx1-ubyte.gz\n",
            "8192/5148 [===============================================] - 0s 0us/step\n",
            "Downloading data from https://storage.googleapis.com/tensorflow/tf-keras-datasets/t10k-images-idx3-ubyte.gz\n",
            "4423680/4422102 [==============================] - 0s 0us/step\n",
            "WARNING:tensorflow:From /usr/local/lib/python3.6/dist-packages/tensorflow/python/ops/resource_variable_ops.py:435: colocate_with (from tensorflow.python.framework.ops) is deprecated and will be removed in a future version.\n",
            "Instructions for updating:\n",
            "Colocations handled automatically by placer.\n",
            "_________________________________________________________________\n",
            "Layer (type)                 Output Shape              Param #   \n",
            "=================================================================\n",
            "conv2d (Conv2D)              (None, 26, 26, 64)        640       \n",
            "_________________________________________________________________\n",
            "max_pooling2d (MaxPooling2D) (None, 13, 13, 64)        0         \n",
            "_________________________________________________________________\n",
            "conv2d_1 (Conv2D)            (None, 11, 11, 64)        36928     \n",
            "_________________________________________________________________\n",
            "max_pooling2d_1 (MaxPooling2 (None, 5, 5, 64)          0         \n",
            "_________________________________________________________________\n",
            "flatten (Flatten)            (None, 1600)              0         \n",
            "_________________________________________________________________\n",
            "dense (Dense)                (None, 128)               204928    \n",
            "_________________________________________________________________\n",
            "dense_1 (Dense)              (None, 10)                1290      \n",
            "=================================================================\n",
            "Total params: 243,786\n",
            "Trainable params: 243,786\n",
            "Non-trainable params: 0\n",
            "_________________________________________________________________\n",
            "Epoch 1/5\n",
            "60000/60000 [==============================] - 116s 2ms/sample - loss: 0.4415 - acc: 0.8385\n",
            "Epoch 2/5\n",
            "60000/60000 [==============================] - 114s 2ms/sample - loss: 0.2939 - acc: 0.8918\n",
            "Epoch 3/5\n",
            "60000/60000 [==============================] - 114s 2ms/sample - loss: 0.2501 - acc: 0.9069\n",
            "Epoch 4/5\n",
            "60000/60000 [==============================] - 115s 2ms/sample - loss: 0.2182 - acc: 0.9191\n",
            "Epoch 5/5\n",
            "60000/60000 [==============================] - 114s 2ms/sample - loss: 0.1907 - acc: 0.9286\n",
            "10000/10000 [==============================] - 5s 536us/sample - loss: 0.2535 - acc: 0.9105\n",
            "0.9105\n"
          ],
          "name": "stdout"
        }
      ]
    },
    {
      "cell_type": "markdown",
      "metadata": {
        "id": "TWJfFw8FvLIw",
        "colab_type": "text"
      },
      "source": [
        "<h2>script with 16 filters</h2>"
      ]
    },
    {
      "cell_type": "code",
      "metadata": {
        "id": "xUnZ_8tFX536",
        "colab_type": "code",
        "colab": {
          "base_uri": "https://localhost:8080/",
          "height": 646
        },
        "outputId": "da69a667-bedb-4a0a-9769-5cd081b552a5"
      },
      "source": [
        "import tensorflow as tf\n",
        "print(tf.__version__)\n",
        "mnist = tf.keras.datasets.fashion_mnist\n",
        "(training_images,training_labels), (test_images, test_labels)=mnist.load_data()\n",
        "training_images=training_images.reshape(60000,28,28,1)\n",
        "training_images=training_images/255.0\n",
        "test_images= test_images.reshape(10000,28,28,1)\n",
        "test_images=test_images/255.0\n",
        "model=tf.keras.models.Sequential([\n",
        "    tf.keras.layers.Conv2D(16,(3,3),activation='relu', input_shape=(28,28,1)),\n",
        "    tf.keras.layers.MaxPooling2D(2,2),\n",
        "    tf.keras.layers.Conv2D(16,(3,3),activation='relu'),\n",
        "    tf.keras.layers.MaxPooling2D(2,2),\n",
        "    tf.keras.layers.Flatten(),\n",
        "    tf.keras.layers.Dense(128, activation='relu'),\n",
        "    tf.keras.layers.Dense(10, activation='softmax')\n",
        "])\n",
        "\n",
        "model.compile(optimizer='adam', loss='sparse_categorical_crossentropy', metrics=['accuracy'])             \n",
        "model.summary()\n",
        "model.fit(training_images, training_labels, epochs=5)\n",
        "test_loss, test_acc =model.evaluate(test_images,test_labels)\n",
        "print(test_acc)"
      ],
      "execution_count": 11,
      "outputs": [
        {
          "output_type": "stream",
          "text": [
            "1.13.1\n",
            "_________________________________________________________________\n",
            "Layer (type)                 Output Shape              Param #   \n",
            "=================================================================\n",
            "conv2d_4 (Conv2D)            (None, 26, 26, 16)        160       \n",
            "_________________________________________________________________\n",
            "max_pooling2d_4 (MaxPooling2 (None, 13, 13, 16)        0         \n",
            "_________________________________________________________________\n",
            "conv2d_5 (Conv2D)            (None, 11, 11, 16)        2320      \n",
            "_________________________________________________________________\n",
            "max_pooling2d_5 (MaxPooling2 (None, 5, 5, 16)          0         \n",
            "_________________________________________________________________\n",
            "flatten_2 (Flatten)          (None, 400)               0         \n",
            "_________________________________________________________________\n",
            "dense_4 (Dense)              (None, 128)               51328     \n",
            "_________________________________________________________________\n",
            "dense_5 (Dense)              (None, 10)                1290      \n",
            "=================================================================\n",
            "Total params: 55,098\n",
            "Trainable params: 55,098\n",
            "Non-trainable params: 0\n",
            "_________________________________________________________________\n",
            "Epoch 1/5\n",
            "60000/60000 [==============================] - 36s 595us/sample - loss: 0.5121 - acc: 0.8137\n",
            "Epoch 2/5\n",
            "60000/60000 [==============================] - 36s 592us/sample - loss: 0.3582 - acc: 0.8686\n",
            "Epoch 3/5\n",
            "60000/60000 [==============================] - 36s 594us/sample - loss: 0.3103 - acc: 0.8860\n",
            "Epoch 4/5\n",
            "60000/60000 [==============================] - 36s 593us/sample - loss: 0.2808 - acc: 0.8960\n",
            "Epoch 5/5\n",
            "60000/60000 [==============================] - 36s 592us/sample - loss: 0.2593 - acc: 0.9028\n",
            "10000/10000 [==============================] - 2s 246us/sample - loss: 0.2957 - acc: 0.8917\n",
            "0.8917\n"
          ],
          "name": "stdout"
        }
      ]
    },
    {
      "cell_type": "markdown",
      "metadata": {
        "id": "Lfmw4Qkuvu-M",
        "colab_type": "text"
      },
      "source": [
        "<h2>script with 32 filters</h2>"
      ]
    },
    {
      "cell_type": "code",
      "metadata": {
        "id": "bZPakwtiGOxs",
        "colab_type": "code",
        "colab": {
          "base_uri": "https://localhost:8080/",
          "height": 646
        },
        "outputId": "27637de8-6f9d-4a11-df13-af89af3e4d7f"
      },
      "source": [
        "import tensorflow as tf\n",
        "print(tf.__version__)\n",
        "mnist = tf.keras.datasets.fashion_mnist\n",
        "(training_images,training_labels), (test_images, test_labels)=mnist.load_data()\n",
        "training_images=training_images.reshape(60000,28,28,1)\n",
        "training_images=training_images/255.0\n",
        "test_images= test_images.reshape(10000,28,28,1)\n",
        "test_images=test_images/255.0\n",
        "model=tf.keras.models.Sequential([\n",
        "    tf.keras.layers.Conv2D(32,(3,3),activation='relu', input_shape=(28,28,1)),\n",
        "    tf.keras.layers.MaxPooling2D(2,2),\n",
        "    tf.keras.layers.Conv2D(32,(3,3),activation='relu'),\n",
        "    tf.keras.layers.MaxPooling2D(2,2),\n",
        "    tf.keras.layers.Flatten(),\n",
        "    tf.keras.layers.Dense(128, activation='relu'),\n",
        "    tf.keras.layers.Dense(10, activation='softmax')\n",
        "])\n",
        "\n",
        "model.compile(optimizer='adam', loss='sparse_categorical_crossentropy', metrics=['accuracy'])             \n",
        "model.summary()\n",
        "model.fit(training_images, training_labels, epochs=5)\n",
        "test_loss, test_acc =model.evaluate(test_images,test_labels)\n",
        "print(test_acc)"
      ],
      "execution_count": 12,
      "outputs": [
        {
          "output_type": "stream",
          "text": [
            "1.13.1\n",
            "_________________________________________________________________\n",
            "Layer (type)                 Output Shape              Param #   \n",
            "=================================================================\n",
            "conv2d_6 (Conv2D)            (None, 26, 26, 32)        320       \n",
            "_________________________________________________________________\n",
            "max_pooling2d_6 (MaxPooling2 (None, 13, 13, 32)        0         \n",
            "_________________________________________________________________\n",
            "conv2d_7 (Conv2D)            (None, 11, 11, 32)        9248      \n",
            "_________________________________________________________________\n",
            "max_pooling2d_7 (MaxPooling2 (None, 5, 5, 32)          0         \n",
            "_________________________________________________________________\n",
            "flatten_3 (Flatten)          (None, 800)               0         \n",
            "_________________________________________________________________\n",
            "dense_6 (Dense)              (None, 128)               102528    \n",
            "_________________________________________________________________\n",
            "dense_7 (Dense)              (None, 10)                1290      \n",
            "=================================================================\n",
            "Total params: 113,386\n",
            "Trainable params: 113,386\n",
            "Non-trainable params: 0\n",
            "_________________________________________________________________\n",
            "Epoch 1/5\n",
            "60000/60000 [==============================] - 58s 969us/sample - loss: 0.4827 - acc: 0.8246\n",
            "Epoch 2/5\n",
            "60000/60000 [==============================] - 59s 979us/sample - loss: 0.3298 - acc: 0.8794\n",
            "Epoch 3/5\n",
            "60000/60000 [==============================] - 58s 965us/sample - loss: 0.2799 - acc: 0.8969\n",
            "Epoch 4/5\n",
            "60000/60000 [==============================] - 57s 956us/sample - loss: 0.2488 - acc: 0.9074\n",
            "Epoch 5/5\n",
            "60000/60000 [==============================] - 57s 957us/sample - loss: 0.2219 - acc: 0.9182\n",
            "10000/10000 [==============================] - 3s 326us/sample - loss: 0.2872 - acc: 0.8958\n",
            "0.8958\n"
          ],
          "name": "stdout"
        }
      ]
    },
    {
      "cell_type": "markdown",
      "metadata": {
        "id": "vugNk1W4v1pW",
        "colab_type": "text"
      },
      "source": [
        "<h2>script with 1 convolution and 16 filters</h2>"
      ]
    },
    {
      "cell_type": "code",
      "metadata": {
        "id": "ZhgQj62XJfZf",
        "colab_type": "code",
        "colab": {
          "base_uri": "https://localhost:8080/",
          "height": 575
        },
        "outputId": "ae0bcfdb-dd79-4036-d4a4-3fb8ad5ebb1a"
      },
      "source": [
        "import tensorflow as tf\n",
        "print(tf.__version__)\n",
        "mnist = tf.keras.datasets.fashion_mnist\n",
        "(training_images,training_labels), (test_images, test_labels)=mnist.load_data()\n",
        "training_images=training_images.reshape(60000,28,28,1)\n",
        "training_images=training_images/255.0\n",
        "test_images= test_images.reshape(10000,28,28,1)\n",
        "test_images=test_images/255.0\n",
        "model=tf.keras.models.Sequential([\n",
        "    tf.keras.layers.Conv2D(16,(3,3),activation='relu', input_shape=(28,28,1)),\n",
        "    tf.keras.layers.MaxPooling2D(2,2),\n",
        "    tf.keras.layers.Flatten(),\n",
        "    tf.keras.layers.Dense(128, activation='relu'),\n",
        "    tf.keras.layers.Dense(10, activation='softmax')\n",
        "])\n",
        "\n",
        "model.compile(optimizer='adam', loss='sparse_categorical_crossentropy', metrics=['accuracy'])             \n",
        "model.summary()\n",
        "model.fit(training_images, training_labels, epochs=5)\n",
        "test_loss, test_acc =model.evaluate(test_images,test_labels)\n",
        "print(test_acc)"
      ],
      "execution_count": 13,
      "outputs": [
        {
          "output_type": "stream",
          "text": [
            "1.13.1\n",
            "_________________________________________________________________\n",
            "Layer (type)                 Output Shape              Param #   \n",
            "=================================================================\n",
            "conv2d_8 (Conv2D)            (None, 26, 26, 16)        160       \n",
            "_________________________________________________________________\n",
            "max_pooling2d_8 (MaxPooling2 (None, 13, 13, 16)        0         \n",
            "_________________________________________________________________\n",
            "flatten_4 (Flatten)          (None, 2704)              0         \n",
            "_________________________________________________________________\n",
            "dense_8 (Dense)              (None, 128)               346240    \n",
            "_________________________________________________________________\n",
            "dense_9 (Dense)              (None, 10)                1290      \n",
            "=================================================================\n",
            "Total params: 347,690\n",
            "Trainable params: 347,690\n",
            "Non-trainable params: 0\n",
            "_________________________________________________________________\n",
            "Epoch 1/5\n",
            "60000/60000 [==============================] - 34s 571us/sample - loss: 0.4205 - acc: 0.8503\n",
            "Epoch 2/5\n",
            "60000/60000 [==============================] - 34s 568us/sample - loss: 0.2861 - acc: 0.8973\n",
            "Epoch 3/5\n",
            "60000/60000 [==============================] - 35s 586us/sample - loss: 0.2425 - acc: 0.9120\n",
            "Epoch 4/5\n",
            "60000/60000 [==============================] - 34s 568us/sample - loss: 0.2112 - acc: 0.9234\n",
            "Epoch 5/5\n",
            "60000/60000 [==============================] - 34s 568us/sample - loss: 0.1862 - acc: 0.9315\n",
            "10000/10000 [==============================] - 2s 224us/sample - loss: 0.2575 - acc: 0.9073\n",
            "0.9073\n"
          ],
          "name": "stdout"
        }
      ]
    },
    {
      "cell_type": "markdown",
      "metadata": {
        "id": "Owt8h9Bdv-sS",
        "colab_type": "text"
      },
      "source": [
        "<h2>script with 3 convolution layers and 64 filters</h2>"
      ]
    },
    {
      "cell_type": "code",
      "metadata": {
        "id": "KrZZRVYYQ-1X",
        "colab_type": "code",
        "colab": {
          "base_uri": "https://localhost:8080/",
          "height": 718
        },
        "outputId": "d1445ad8-d12f-451f-bdd3-3103b49c44dc"
      },
      "source": [
        "import tensorflow as tf\n",
        "print(tf.__version__)\n",
        "mnist = tf.keras.datasets.fashion_mnist\n",
        "(training_images,training_labels), (test_images, test_labels)=mnist.load_data()\n",
        "training_images=training_images.reshape(60000,28,28,1)\n",
        "training_images=training_images/255.0\n",
        "test_images= test_images.reshape(10000,28,28,1)\n",
        "test_images=test_images/255.0\n",
        "model=tf.keras.models.Sequential([\n",
        "    tf.keras.layers.Conv2D(64,(3,3),activation='relu', input_shape=(28,28,1)),\n",
        "    tf.keras.layers.MaxPooling2D(2,2),\n",
        "    tf.keras.layers.Conv2D(64,(3,3),activation='relu'),\n",
        "    tf.keras.layers.MaxPooling2D(2,2),\n",
        "    tf.keras.layers.Conv2D(64,(3,3),activation='relu'),\n",
        "    tf.keras.layers.MaxPooling2D(2,2),\n",
        "    tf.keras.layers.Flatten(),\n",
        "    tf.keras.layers.Dense(128, activation='relu'),\n",
        "    tf.keras.layers.Dense(10, activation='softmax')\n",
        "])\n",
        "\n",
        "model.compile(optimizer='adam', loss='sparse_categorical_crossentropy', metrics=['accuracy'])             \n",
        "model.summary()\n",
        "model.fit(training_images, training_labels, epochs=5)\n",
        "test_loss, test_acc =model.evaluate(test_images,test_labels)\n",
        "print(test_acc)"
      ],
      "execution_count": 24,
      "outputs": [
        {
          "output_type": "stream",
          "text": [
            "1.13.1\n",
            "_________________________________________________________________\n",
            "Layer (type)                 Output Shape              Param #   \n",
            "=================================================================\n",
            "conv2d_31 (Conv2D)           (None, 26, 26, 64)        640       \n",
            "_________________________________________________________________\n",
            "max_pooling2d_31 (MaxPooling (None, 13, 13, 64)        0         \n",
            "_________________________________________________________________\n",
            "conv2d_32 (Conv2D)           (None, 11, 11, 64)        36928     \n",
            "_________________________________________________________________\n",
            "max_pooling2d_32 (MaxPooling (None, 5, 5, 64)          0         \n",
            "_________________________________________________________________\n",
            "conv2d_33 (Conv2D)           (None, 3, 3, 64)          36928     \n",
            "_________________________________________________________________\n",
            "max_pooling2d_33 (MaxPooling (None, 1, 1, 64)          0         \n",
            "_________________________________________________________________\n",
            "flatten_15 (Flatten)         (None, 64)                0         \n",
            "_________________________________________________________________\n",
            "dense_30 (Dense)             (None, 128)               8320      \n",
            "_________________________________________________________________\n",
            "dense_31 (Dense)             (None, 10)                1290      \n",
            "=================================================================\n",
            "Total params: 84,106\n",
            "Trainable params: 84,106\n",
            "Non-trainable params: 0\n",
            "_________________________________________________________________\n",
            "Epoch 1/5\n",
            "60000/60000 [==============================] - 111s 2ms/sample - loss: 0.5652 - acc: 0.7935\n",
            "Epoch 2/5\n",
            "60000/60000 [==============================] - 111s 2ms/sample - loss: 0.3800 - acc: 0.8598\n",
            "Epoch 3/5\n",
            "60000/60000 [==============================] - 110s 2ms/sample - loss: 0.3253 - acc: 0.8788\n",
            "Epoch 4/5\n",
            "60000/60000 [==============================] - 110s 2ms/sample - loss: 0.2924 - acc: 0.8916\n",
            "Epoch 5/5\n",
            "60000/60000 [==============================] - 110s 2ms/sample - loss: 0.2670 - acc: 0.8998\n",
            "10000/10000 [==============================] - 6s 557us/sample - loss: 0.3154 - acc: 0.8851\n",
            "0.8851\n"
          ],
          "name": "stdout"
        }
      ]
    },
    {
      "cell_type": "markdown",
      "metadata": {
        "id": "Ku_xxLJBwH1O",
        "colab_type": "text"
      },
      "source": [
        "<h2>script with call back function</h2>"
      ]
    },
    {
      "cell_type": "code",
      "metadata": {
        "id": "HJ0lPZS3RF4B",
        "colab_type": "code",
        "colab": {
          "base_uri": "https://localhost:8080/",
          "height": 772
        },
        "outputId": "06982eed-b4c7-43b5-8bac-34fb7d4acb7b"
      },
      "source": [
        "import tensorflow as tf\n",
        "\n",
        "class myCallback(tf.keras.callbacks.Callback):\n",
        "  def on_epoch_end(self, epoch, logs={}):\n",
        "    if (logs.get('acc')>0.95):\n",
        "      print('\\n Reached 93% accuracy so cancelling the training')\n",
        "      self.model.stop_training=True\n",
        "      \n",
        "mnist = tf.keras.datasets.fashion_mnist \n",
        "\n",
        "(training_images,training_labels), (test_images, test_labels)=mnist.load_data()\n",
        "\n",
        "training_images=training_images.reshape(60000,28,28,1)\n",
        "training_images=training_images/255.0\n",
        "test_images= test_images.reshape(10000,28,28,1)\n",
        "test_images=test_images/255.0\n",
        "callbacks=myCallback()\n",
        "model=tf.keras.models.Sequential([\n",
        "    tf.keras.layers.Conv2D(64,(3,3),activation='relu', input_shape=(28,28,1)),\n",
        "    tf.keras.layers.MaxPooling2D(2,2),\n",
        "    tf.keras.layers.Conv2D(64,(3,3),activation='relu'),\n",
        "    tf.keras.layers.MaxPooling2D(2,2),\n",
        "    tf.keras.layers.Flatten(),\n",
        "    tf.keras.layers.Dense(128, activation='relu'),\n",
        "    tf.keras.layers.Dense(10, activation='softmax')\n",
        "])\n",
        "\n",
        "model.compile(optimizer='adam', loss='sparse_categorical_crossentropy', metrics=['accuracy'])             \n",
        "model.summary()\n",
        "model.fit(training_images, training_labels, epochs=20, callbacks=[callbacks])\n",
        "test_loss, test_acc =model.evaluate(test_images,test_labels)\n",
        "print(test_acc)"
      ],
      "execution_count": 25,
      "outputs": [
        {
          "output_type": "stream",
          "text": [
            "_________________________________________________________________\n",
            "Layer (type)                 Output Shape              Param #   \n",
            "=================================================================\n",
            "conv2d_34 (Conv2D)           (None, 26, 26, 64)        640       \n",
            "_________________________________________________________________\n",
            "max_pooling2d_34 (MaxPooling (None, 13, 13, 64)        0         \n",
            "_________________________________________________________________\n",
            "conv2d_35 (Conv2D)           (None, 11, 11, 64)        36928     \n",
            "_________________________________________________________________\n",
            "max_pooling2d_35 (MaxPooling (None, 5, 5, 64)          0         \n",
            "_________________________________________________________________\n",
            "flatten_16 (Flatten)         (None, 1600)              0         \n",
            "_________________________________________________________________\n",
            "dense_32 (Dense)             (None, 128)               204928    \n",
            "_________________________________________________________________\n",
            "dense_33 (Dense)             (None, 10)                1290      \n",
            "=================================================================\n",
            "Total params: 243,786\n",
            "Trainable params: 243,786\n",
            "Non-trainable params: 0\n",
            "_________________________________________________________________\n",
            "Epoch 1/20\n",
            "60000/60000 [==============================] - 110s 2ms/sample - loss: 0.4414 - acc: 0.8403\n",
            "Epoch 2/20\n",
            "60000/60000 [==============================] - 109s 2ms/sample - loss: 0.2988 - acc: 0.8904\n",
            "Epoch 3/20\n",
            "60000/60000 [==============================] - 108s 2ms/sample - loss: 0.2528 - acc: 0.9066\n",
            "Epoch 4/20\n",
            "60000/60000 [==============================] - 108s 2ms/sample - loss: 0.2206 - acc: 0.9178\n",
            "Epoch 5/20\n",
            "60000/60000 [==============================] - 109s 2ms/sample - loss: 0.1911 - acc: 0.9289\n",
            "Epoch 6/20\n",
            "60000/60000 [==============================] - 108s 2ms/sample - loss: 0.1699 - acc: 0.9361\n",
            "Epoch 7/20\n",
            "60000/60000 [==============================] - 108s 2ms/sample - loss: 0.1499 - acc: 0.9439\n",
            "Epoch 8/20\n",
            "59968/60000 [============================>.] - ETA: 0s - loss: 0.1328 - acc: 0.9504\n",
            " Reached 93% accuracy so cancelling the training\n",
            "60000/60000 [==============================] - 109s 2ms/sample - loss: 0.1329 - acc: 0.9504\n",
            "10000/10000 [==============================] - 5s 542us/sample - loss: 0.2763 - acc: 0.9145\n",
            "0.9145\n"
          ],
          "name": "stdout"
        }
      ]
    },
    {
      "cell_type": "code",
      "metadata": {
        "id": "VM--eITaWkmx",
        "colab_type": "code",
        "colab": {}
      },
      "source": [
        ""
      ],
      "execution_count": 0,
      "outputs": []
    }
  ]
}